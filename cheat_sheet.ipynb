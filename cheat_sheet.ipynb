{
 "cells": [
  {
   "cell_type": "markdown",
   "metadata": {},
   "source": [
    "# Line Plot"
   ]
  },
  {
   "cell_type": "code",
   "execution_count": null,
   "metadata": {},
   "outputs": [],
   "source": [
    "fig, ax = plt.subplots(figsize = (20,5))\n",
    "ax.plot(df1[''], df1[''], linestyle = '--', color = 'r')\n",
    "ax.set_xlabel('')\n",
    "ax.set_ylabel('')\n",
    "ax.set_title('')\n",
    "ax.tick_params(labelrotation= 60)\n",
    "plt.show()"
   ]
  },
  {
   "cell_type": "markdown",
   "metadata": {},
   "source": [
    "# 2 in 1 line plot"
   ]
  },
  {
   "cell_type": "code",
   "execution_count": null,
   "metadata": {},
   "outputs": [],
   "source": [
    "fig, ax = plt.subplots(2,1,figsize = (10,5), sharex = True)\n",
    "ax[0].plot(df1['Datetime'], df1['OutdoorTemperature'], linestyle = '--', color = 'r')\n",
    "ax[0].set_xlabel('DateTime')\n",
    "ax[0].set_ylabel('OutdoorTemperature')\n",
    "ax[0].set_title('OT and over time')\n",
    "ax[0].tick_params(labelrotation= 60)\n",
    "\n",
    "ax[1].plot(df1['Datetime'], df1['OutdoorRelativeHumidity'], linestyle = '--', color = 'r')\n",
    "ax[1].set_xlabel('DateTime')\n",
    "ax[1].set_ylabel('OutdoorRelativeHumidity')\n",
    "ax[1].tick_params(labelrotation= 60)\n",
    "#ax.set_xticklabels(labels, rotation)\n",
    "plt.show()"
   ]
  },
  {
   "cell_type": "markdown",
   "metadata": {},
   "source": [
    "# over lapping line plots"
   ]
  },
  {
   "cell_type": "code",
   "execution_count": null,
   "metadata": {},
   "outputs": [],
   "source": [
    "fig, ax = plt.subplots(figsize = (10,5))\n",
    "ax.plot(df1['Datetime'], df1['OutdoorTemperature'], color = 'r')\n",
    "ax.set_xlabel('DateTime', color = 'red')\n",
    "ax.set_ylabel('OutdoorTemperature')\n",
    "ax.set_title('OT over time')\n",
    "ax.tick_params('x',labelrotation= 60)\n",
    "ax.tick_params('y',colors='red')\n",
    "\n",
    "ax2 = ax.twinx()\n",
    "ax2.plot(df1['Datetime'], df1['OutdoorRelativeHumidity'], linestyle = '-', color = 'b')\n",
    "\n",
    "ax2.set_ylabel('OutdoorRelativeHumidity', color = 'blue')\n",
    "ax2.tick_params('y',colors='blue')\n",
    "ax2.annotate('>60 degrees', xy = [pd.Timestamp('2017-03-01'), 65],\n",
    "            xytext = [pd.Timestamp('2017-03-01'), 20],\n",
    "            arrowprops = {'arrowstyle':'->', 'color' : 'black'})\n",
    "#ax.set_xticklabels(labels, rotation)\n",
    "plt.show()"
   ]
  },
  {
   "cell_type": "markdown",
   "metadata": {},
   "source": [
    "# countplot"
   ]
  },
  {
   "cell_type": "code",
   "execution_count": null,
   "metadata": {},
   "outputs": [],
   "source": [
    "sns.countplot(data = df1, x = 'BuildingOccupied', hue = 'minute')"
   ]
  },
  {
   "cell_type": "markdown",
   "metadata": {},
   "source": [
    "# 2 in 1 histogram"
   ]
  },
  {
   "cell_type": "code",
   "execution_count": null,
   "metadata": {},
   "outputs": [],
   "source": [
    "fig,ax = plt.subplots()\n",
    "ax.hist(df1['OutdoorRelativeHumidity'], label = 'Hist1', bins = [20,30,40,50,60,70,80,90,100], histtype = 'step')\n",
    "ax.hist(df1['OutdoorTemperature'], bins = 20, label = 'Hist2', histtype = 'step')\n",
    "ax.set_xlabel('OutdoorRelativeHumidity', color = 'red')\n",
    "ax.set_ylabel('Counts')\n",
    "ax.set_title('Histogram')\n",
    "ax.tick_params('x', colors = 'red', labelrotation = 30)\n",
    "ax.annotate('peak', xy = [65,500], xytext = [20,500], arrowprops = {'arrowstyle' : '->', 'color' : 'gray'})\n",
    "ax.legend()\n",
    "plt.show()"
   ]
  },
  {
   "cell_type": "markdown",
   "metadata": {},
   "source": [
    "# histogram"
   ]
  },
  {
   "cell_type": "code",
   "execution_count": null,
   "metadata": {},
   "outputs": [],
   "source": [
    "sns.distplot(df1['OutdoorRelativeHumidity'], kde = False, bins = )"
   ]
  },
  {
   "cell_type": "markdown",
   "metadata": {},
   "source": [
    "# barplot"
   ]
  },
  {
   "cell_type": "code",
   "execution_count": null,
   "metadata": {},
   "outputs": [],
   "source": [
    "sns.barplot(data=df1, x = df1['hour'], y = df1['OutdoorRelativeHumidity'], hue='minute')"
   ]
  },
  {
   "cell_type": "markdown",
   "metadata": {},
   "source": [
    "# scatter plot "
   ]
  },
  {
   "cell_type": "code",
   "execution_count": null,
   "metadata": {},
   "outputs": [],
   "source": [
    "sns.set(color_codes = True)\n",
    "sns.lmplot(data = df1, x = 'OutdoorRelativeHumidity', y = 'OutdoorTemperature', fit_reg=True, order=2)"
   ]
  },
  {
   "cell_type": "code",
   "execution_count": null,
   "metadata": {},
   "outputs": [],
   "source": []
  },
  {
   "cell_type": "code",
   "execution_count": null,
   "metadata": {},
   "outputs": [],
   "source": [
    "from sklearn.model_selection import GridSearchCV\n",
    "from sklearn.pipeline import Pipeline\n",
    "from sklearn.ensemble import RandomForestRegressor\n",
    "from sklearn.metrics import mean_squared_error\n",
    "from sklearn.preprocessing import StandardScaler\n",
    "from sklearn.decomposition import PCA\n",
    "from sklearn.model_selection import train_test_split\n",
    "import xgboost as xgb"
   ]
  },
  {
   "cell_type": "code",
   "execution_count": null,
   "metadata": {},
   "outputs": [],
   "source": [
    "steps = [('rf', RandomForestRegressor(n_jobs=-1, random_state=41))]\n",
    "\n",
    "# Create the pipeline: pipeline \n",
    "pipeline = Pipeline(steps)\n",
    "\n",
    "# Specify the hyperparameter space\n",
    "parameters = {\n",
    "          'rf__n_estimators':[10,30,50, 100, 500],\n",
    "          'rf__max_depth':[2,3,4,5,6,7,8],\n",
    "          'rf__min_samples_leaf':[10,15,20,30]}\n",
    "\n",
    "# Create train and test sets\n",
    "\n",
    "# Create the GridSearchCV object: gm_cv\n",
    "rf_cv = GridSearchCV(pipeline, param_grid = parameters, cv = 3)\n",
    "\n",
    "# Fit to the training set\n",
    "rf_cv.fit(X_train, y_train)\n",
    "\n",
    "# Compute and print the metrics\n",
    "r2 = rf_cv.score(X_test, y_test)\n",
    "print(\"Tuned RF best params: {}\".format(rf_cv.best_params_))\n",
    "print(\"Tuned RF R squared: {}\".format(r2))"
   ]
  },
  {
   "cell_type": "code",
   "execution_count": null,
   "metadata": {},
   "outputs": [],
   "source": []
  },
  {
   "cell_type": "code",
   "execution_count": null,
   "metadata": {},
   "outputs": [],
   "source": [
    "steps = [('xgb', xgb.XGBRegressor( random_state=41, booster='gbtree', objective='reg:linear',\n",
    "                                  subsample = 0.8, nthread=-1))]\n",
    "\n",
    "# Create the pipeline: pipeline \n",
    "pipeline = Pipeline(steps)\n",
    "\n",
    "# Specify the hyperparameter space\n",
    "parameters = {'xgb__learning_rate': [0.1, 0.01, 0.001],\n",
    "              'xgb__max_depth': [3,4,5,6,7,8,9],\n",
    "              'xgb__n_estimators':[10,25,50,100,250,500],\n",
    "              'xgb__colsample_bytree':[0.6,0.75,0.9],\n",
    "              'xgb__min_child_weight':[10,15,20,30]}\n",
    "\n",
    "# Create train and test sets\n",
    "\n",
    "# Create the GridSearchCV object: gm_cv\n",
    "rf_cv = GridSearchCV(pipeline, param_grid = parameters, cv = 3)\n",
    "\n",
    "# Fit to the training set\n",
    "rf_cv.fit(X_train, y_train)\n",
    "\n",
    "# Compute and print the metrics\n",
    "r2 = rf_cv.score(X_test, y_test)\n",
    "print(\"Tuned RF best params: {}\".format(rf_cv.best_params_))\n",
    "print(\"Tuned RF R squared: {}\".format(r2))\n",
    "print(\"Tuned RF Adj R squared: \\\n",
    "{}\".format(1 - (1-model.score(X_test, y_test))*(len(y_test)-1)/(len(y_test)-X_test.shape[1]-1)))"
   ]
  },
  {
   "cell_type": "code",
   "execution_count": null,
   "metadata": {},
   "outputs": [],
   "source": []
  },
  {
   "cell_type": "markdown",
   "metadata": {},
   "source": [
    "# random forest important features"
   ]
  },
  {
   "cell_type": "code",
   "execution_count": null,
   "metadata": {},
   "outputs": [],
   "source": [
    "feature_importance = pd.Series(rf.feature_importances_, index=X_train.columns).sort_values(ascending = False)\n",
    "\n",
    "import matplotlib.pyplot as plt\n",
    "import seaborn as sns\n",
    "plt.figure(figsize = (10,10))\n",
    "sns.barplot(feature_importance, feature_importance.index,)\n",
    "plt.show()"
   ]
  },
  {
   "cell_type": "code",
   "execution_count": null,
   "metadata": {},
   "outputs": [],
   "source": []
  }
 ],
 "metadata": {
  "kernelspec": {
   "display_name": "Python 3",
   "language": "python",
   "name": "python3"
  },
  "language_info": {
   "codemirror_mode": {
    "name": "ipython",
    "version": 3
   },
   "file_extension": ".py",
   "mimetype": "text/x-python",
   "name": "python",
   "nbconvert_exporter": "python",
   "pygments_lexer": "ipython3",
   "version": "3.6.5"
  }
 },
 "nbformat": 4,
 "nbformat_minor": 2
}
